{
  "metadata": {
    "kernelspec": {
      "name": "python",
      "display_name": "Python (Pyodide)",
      "language": "python"
    },
    "language_info": {
      "codemirror_mode": {
        "name": "python",
        "version": 3
      },
      "file_extension": ".py",
      "mimetype": "text/x-python",
      "name": "python",
      "nbconvert_exporter": "python",
      "pygments_lexer": "ipython3",
      "version": "3.8"
    }
  },
  "nbformat_minor": 4,
  "nbformat": 4,
  "cells": [
    {
      "cell_type": "markdown",
      "source": "<H4> Decision Tree Classifier on Salaries</H4>",
      "metadata": {}
    },
    {
      "cell_type": "code",
      "source": "import pandas as pd\ndf = pd.read_csv('salaries.csv')",
      "metadata": {
        "trusted": true
      },
      "outputs": [],
      "execution_count": null
    },
    {
      "cell_type": "code",
      "source": "df",
      "metadata": {
        "trusted": true
      },
      "outputs": [
        {
          "execution_count": 19,
          "output_type": "execute_result",
          "data": {
            "text/plain": "       company                  job     degree  salary_more_then_100k\n0       google      sales executive  bachelors                      0\n1       google      sales executive    masters                      0\n2       google     business manager  bachelors                      1\n3       google     business manager    masters                      1\n4       google  computer programmer  bachelors                      0\n5       google  computer programmer    masters                      1\n6   abc pharma      sales executive    masters                      0\n7   abc pharma  computer programmer  bachelors                      0\n8   abc pharma     business manager  bachelors                      0\n9   abc pharma     business manager    masters                      1\n10    facebook      sales executive  bachelors                      1\n11    facebook      sales executive    masters                      1\n12    facebook     business manager  bachelors                      1\n13    facebook     business manager    masters                      1\n14    facebook  computer programmer  bachelors                      1\n15    facebook  computer programmer    masters                      1",
            "text/html": "<div>\n<style scoped>\n    .dataframe tbody tr th:only-of-type {\n        vertical-align: middle;\n    }\n\n    .dataframe tbody tr th {\n        vertical-align: top;\n    }\n\n    .dataframe thead th {\n        text-align: right;\n    }\n</style>\n<table border=\"1\" class=\"dataframe\">\n  <thead>\n    <tr style=\"text-align: right;\">\n      <th></th>\n      <th>company</th>\n      <th>job</th>\n      <th>degree</th>\n      <th>salary_more_then_100k</th>\n    </tr>\n  </thead>\n  <tbody>\n    <tr>\n      <th>0</th>\n      <td>google</td>\n      <td>sales executive</td>\n      <td>bachelors</td>\n      <td>0</td>\n    </tr>\n    <tr>\n      <th>1</th>\n      <td>google</td>\n      <td>sales executive</td>\n      <td>masters</td>\n      <td>0</td>\n    </tr>\n    <tr>\n      <th>2</th>\n      <td>google</td>\n      <td>business manager</td>\n      <td>bachelors</td>\n      <td>1</td>\n    </tr>\n    <tr>\n      <th>3</th>\n      <td>google</td>\n      <td>business manager</td>\n      <td>masters</td>\n      <td>1</td>\n    </tr>\n    <tr>\n      <th>4</th>\n      <td>google</td>\n      <td>computer programmer</td>\n      <td>bachelors</td>\n      <td>0</td>\n    </tr>\n    <tr>\n      <th>5</th>\n      <td>google</td>\n      <td>computer programmer</td>\n      <td>masters</td>\n      <td>1</td>\n    </tr>\n    <tr>\n      <th>6</th>\n      <td>abc pharma</td>\n      <td>sales executive</td>\n      <td>masters</td>\n      <td>0</td>\n    </tr>\n    <tr>\n      <th>7</th>\n      <td>abc pharma</td>\n      <td>computer programmer</td>\n      <td>bachelors</td>\n      <td>0</td>\n    </tr>\n    <tr>\n      <th>8</th>\n      <td>abc pharma</td>\n      <td>business manager</td>\n      <td>bachelors</td>\n      <td>0</td>\n    </tr>\n    <tr>\n      <th>9</th>\n      <td>abc pharma</td>\n      <td>business manager</td>\n      <td>masters</td>\n      <td>1</td>\n    </tr>\n    <tr>\n      <th>10</th>\n      <td>facebook</td>\n      <td>sales executive</td>\n      <td>bachelors</td>\n      <td>1</td>\n    </tr>\n    <tr>\n      <th>11</th>\n      <td>facebook</td>\n      <td>sales executive</td>\n      <td>masters</td>\n      <td>1</td>\n    </tr>\n    <tr>\n      <th>12</th>\n      <td>facebook</td>\n      <td>business manager</td>\n      <td>bachelors</td>\n      <td>1</td>\n    </tr>\n    <tr>\n      <th>13</th>\n      <td>facebook</td>\n      <td>business manager</td>\n      <td>masters</td>\n      <td>1</td>\n    </tr>\n    <tr>\n      <th>14</th>\n      <td>facebook</td>\n      <td>computer programmer</td>\n      <td>bachelors</td>\n      <td>1</td>\n    </tr>\n    <tr>\n      <th>15</th>\n      <td>facebook</td>\n      <td>computer programmer</td>\n      <td>masters</td>\n      <td>1</td>\n    </tr>\n  </tbody>\n</table>\n</div>"
          },
          "metadata": {}
        }
      ],
      "execution_count": 19
    },
    {
      "cell_type": "code",
      "source": "inputs=df.drop('salary_more_then_100k',axis='columns')\ntarget=df['salary_more_then_100k']\nfrom sklearn.preprocessing import LabelEncoder\nle_company=LabelEncoder()\nle_job=LabelEncoder()\nle_degree=LabelEncoder()",
      "metadata": {
        "trusted": true
      },
      "outputs": [],
      "execution_count": 9
    },
    {
      "cell_type": "code",
      "source": "inputs['company_n']=le_company.fit_transform(inputs['company'])\ninputs['job_n']=le_job.fit_transform(inputs['job'])\ninputs['degree_n']=le_degree.fit_transform(inputs['degree'])\ninputs",
      "metadata": {
        "trusted": true
      },
      "outputs": [
        {
          "execution_count": 10,
          "output_type": "execute_result",
          "data": {
            "text/plain": "       company                  job     degree  company_n  job_n  degree_n\n0       google      sales executive  bachelors          2      2         0\n1       google      sales executive    masters          2      2         1\n2       google     business manager  bachelors          2      0         0\n3       google     business manager    masters          2      0         1\n4       google  computer programmer  bachelors          2      1         0\n5       google  computer programmer    masters          2      1         1\n6   abc pharma      sales executive    masters          0      2         1\n7   abc pharma  computer programmer  bachelors          0      1         0\n8   abc pharma     business manager  bachelors          0      0         0\n9   abc pharma     business manager    masters          0      0         1\n10    facebook      sales executive  bachelors          1      2         0\n11    facebook      sales executive    masters          1      2         1\n12    facebook     business manager  bachelors          1      0         0\n13    facebook     business manager    masters          1      0         1\n14    facebook  computer programmer  bachelors          1      1         0\n15    facebook  computer programmer    masters          1      1         1",
            "text/html": "<div>\n<style scoped>\n    .dataframe tbody tr th:only-of-type {\n        vertical-align: middle;\n    }\n\n    .dataframe tbody tr th {\n        vertical-align: top;\n    }\n\n    .dataframe thead th {\n        text-align: right;\n    }\n</style>\n<table border=\"1\" class=\"dataframe\">\n  <thead>\n    <tr style=\"text-align: right;\">\n      <th></th>\n      <th>company</th>\n      <th>job</th>\n      <th>degree</th>\n      <th>company_n</th>\n      <th>job_n</th>\n      <th>degree_n</th>\n    </tr>\n  </thead>\n  <tbody>\n    <tr>\n      <th>0</th>\n      <td>google</td>\n      <td>sales executive</td>\n      <td>bachelors</td>\n      <td>2</td>\n      <td>2</td>\n      <td>0</td>\n    </tr>\n    <tr>\n      <th>1</th>\n      <td>google</td>\n      <td>sales executive</td>\n      <td>masters</td>\n      <td>2</td>\n      <td>2</td>\n      <td>1</td>\n    </tr>\n    <tr>\n      <th>2</th>\n      <td>google</td>\n      <td>business manager</td>\n      <td>bachelors</td>\n      <td>2</td>\n      <td>0</td>\n      <td>0</td>\n    </tr>\n    <tr>\n      <th>3</th>\n      <td>google</td>\n      <td>business manager</td>\n      <td>masters</td>\n      <td>2</td>\n      <td>0</td>\n      <td>1</td>\n    </tr>\n    <tr>\n      <th>4</th>\n      <td>google</td>\n      <td>computer programmer</td>\n      <td>bachelors</td>\n      <td>2</td>\n      <td>1</td>\n      <td>0</td>\n    </tr>\n    <tr>\n      <th>5</th>\n      <td>google</td>\n      <td>computer programmer</td>\n      <td>masters</td>\n      <td>2</td>\n      <td>1</td>\n      <td>1</td>\n    </tr>\n    <tr>\n      <th>6</th>\n      <td>abc pharma</td>\n      <td>sales executive</td>\n      <td>masters</td>\n      <td>0</td>\n      <td>2</td>\n      <td>1</td>\n    </tr>\n    <tr>\n      <th>7</th>\n      <td>abc pharma</td>\n      <td>computer programmer</td>\n      <td>bachelors</td>\n      <td>0</td>\n      <td>1</td>\n      <td>0</td>\n    </tr>\n    <tr>\n      <th>8</th>\n      <td>abc pharma</td>\n      <td>business manager</td>\n      <td>bachelors</td>\n      <td>0</td>\n      <td>0</td>\n      <td>0</td>\n    </tr>\n    <tr>\n      <th>9</th>\n      <td>abc pharma</td>\n      <td>business manager</td>\n      <td>masters</td>\n      <td>0</td>\n      <td>0</td>\n      <td>1</td>\n    </tr>\n    <tr>\n      <th>10</th>\n      <td>facebook</td>\n      <td>sales executive</td>\n      <td>bachelors</td>\n      <td>1</td>\n      <td>2</td>\n      <td>0</td>\n    </tr>\n    <tr>\n      <th>11</th>\n      <td>facebook</td>\n      <td>sales executive</td>\n      <td>masters</td>\n      <td>1</td>\n      <td>2</td>\n      <td>1</td>\n    </tr>\n    <tr>\n      <th>12</th>\n      <td>facebook</td>\n      <td>business manager</td>\n      <td>bachelors</td>\n      <td>1</td>\n      <td>0</td>\n      <td>0</td>\n    </tr>\n    <tr>\n      <th>13</th>\n      <td>facebook</td>\n      <td>business manager</td>\n      <td>masters</td>\n      <td>1</td>\n      <td>0</td>\n      <td>1</td>\n    </tr>\n    <tr>\n      <th>14</th>\n      <td>facebook</td>\n      <td>computer programmer</td>\n      <td>bachelors</td>\n      <td>1</td>\n      <td>1</td>\n      <td>0</td>\n    </tr>\n    <tr>\n      <th>15</th>\n      <td>facebook</td>\n      <td>computer programmer</td>\n      <td>masters</td>\n      <td>1</td>\n      <td>1</td>\n      <td>1</td>\n    </tr>\n  </tbody>\n</table>\n</div>"
          },
          "metadata": {}
        }
      ],
      "execution_count": 10
    },
    {
      "cell_type": "code",
      "source": "inputs_n=inputs.drop(['company','job','degree'], axis='columns')\ninputs_n",
      "metadata": {
        "trusted": true
      },
      "outputs": [
        {
          "execution_count": 12,
          "output_type": "execute_result",
          "data": {
            "text/plain": "    company_n  job_n  degree_n\n0           2      2         0\n1           2      2         1\n2           2      0         0\n3           2      0         1\n4           2      1         0\n5           2      1         1\n6           0      2         1\n7           0      1         0\n8           0      0         0\n9           0      0         1\n10          1      2         0\n11          1      2         1\n12          1      0         0\n13          1      0         1\n14          1      1         0\n15          1      1         1",
            "text/html": "<div>\n<style scoped>\n    .dataframe tbody tr th:only-of-type {\n        vertical-align: middle;\n    }\n\n    .dataframe tbody tr th {\n        vertical-align: top;\n    }\n\n    .dataframe thead th {\n        text-align: right;\n    }\n</style>\n<table border=\"1\" class=\"dataframe\">\n  <thead>\n    <tr style=\"text-align: right;\">\n      <th></th>\n      <th>company_n</th>\n      <th>job_n</th>\n      <th>degree_n</th>\n    </tr>\n  </thead>\n  <tbody>\n    <tr>\n      <th>0</th>\n      <td>2</td>\n      <td>2</td>\n      <td>0</td>\n    </tr>\n    <tr>\n      <th>1</th>\n      <td>2</td>\n      <td>2</td>\n      <td>1</td>\n    </tr>\n    <tr>\n      <th>2</th>\n      <td>2</td>\n      <td>0</td>\n      <td>0</td>\n    </tr>\n    <tr>\n      <th>3</th>\n      <td>2</td>\n      <td>0</td>\n      <td>1</td>\n    </tr>\n    <tr>\n      <th>4</th>\n      <td>2</td>\n      <td>1</td>\n      <td>0</td>\n    </tr>\n    <tr>\n      <th>5</th>\n      <td>2</td>\n      <td>1</td>\n      <td>1</td>\n    </tr>\n    <tr>\n      <th>6</th>\n      <td>0</td>\n      <td>2</td>\n      <td>1</td>\n    </tr>\n    <tr>\n      <th>7</th>\n      <td>0</td>\n      <td>1</td>\n      <td>0</td>\n    </tr>\n    <tr>\n      <th>8</th>\n      <td>0</td>\n      <td>0</td>\n      <td>0</td>\n    </tr>\n    <tr>\n      <th>9</th>\n      <td>0</td>\n      <td>0</td>\n      <td>1</td>\n    </tr>\n    <tr>\n      <th>10</th>\n      <td>1</td>\n      <td>2</td>\n      <td>0</td>\n    </tr>\n    <tr>\n      <th>11</th>\n      <td>1</td>\n      <td>2</td>\n      <td>1</td>\n    </tr>\n    <tr>\n      <th>12</th>\n      <td>1</td>\n      <td>0</td>\n      <td>0</td>\n    </tr>\n    <tr>\n      <th>13</th>\n      <td>1</td>\n      <td>0</td>\n      <td>1</td>\n    </tr>\n    <tr>\n      <th>14</th>\n      <td>1</td>\n      <td>1</td>\n      <td>0</td>\n    </tr>\n    <tr>\n      <th>15</th>\n      <td>1</td>\n      <td>1</td>\n      <td>1</td>\n    </tr>\n  </tbody>\n</table>\n</div>"
          },
          "metadata": {}
        }
      ],
      "execution_count": 12
    },
    {
      "cell_type": "code",
      "source": "from sklearn import tree\nmodel=tree.DecisionTreeClassifier()",
      "metadata": {
        "trusted": true
      },
      "outputs": [],
      "execution_count": 13
    },
    {
      "cell_type": "code",
      "source": "model.fit(inputs_n,target)\nmodel.score(inputs_n,target)",
      "metadata": {
        "trusted": true
      },
      "outputs": [
        {
          "execution_count": 14,
          "output_type": "execute_result",
          "data": {
            "text/plain": "1.0"
          },
          "metadata": {}
        }
      ],
      "execution_count": 14
    },
    {
      "cell_type": "code",
      "source": "model.predict([[2,1,1]])",
      "metadata": {
        "trusted": true
      },
      "outputs": [
        {
          "name": "stderr",
          "text": "/lib/python3.12/site-packages/sklearn/base.py:493: UserWarning: X does not have valid feature names, but DecisionTreeClassifier was fitted with feature names\n  warnings.warn(\n",
          "output_type": "stream"
        },
        {
          "execution_count": 18,
          "output_type": "execute_result",
          "data": {
            "text/plain": "array([1], dtype=int64)"
          },
          "metadata": {}
        }
      ],
      "execution_count": 18
    },
    {
      "cell_type": "code",
      "source": "",
      "metadata": {
        "trusted": true
      },
      "outputs": [],
      "execution_count": null
    },
    {
      "cell_type": "code",
      "source": "",
      "metadata": {
        "trusted": true
      },
      "outputs": [],
      "execution_count": null
    },
    {
      "cell_type": "raw",
      "source": "",
      "metadata": {}
    }
  ]
}